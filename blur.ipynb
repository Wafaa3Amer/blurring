{
 "cells": [
  {
   "cell_type": "code",
   "execution_count": 1,
   "id": "4846e65d",
   "metadata": {},
   "outputs": [],
   "source": [
    "import cv2 "
   ]
  },
  {
   "cell_type": "code",
   "execution_count": 2,
   "id": "bf4e9cd4",
   "metadata": {},
   "outputs": [],
   "source": [
    "import numpy as np"
   ]
  },
  {
   "cell_type": "code",
   "execution_count": null,
   "id": "421762df",
   "metadata": {},
   "outputs": [],
   "source": [
    "#test"
   ]
  },
  {
   "cell_type": "code",
   "execution_count": 3,
   "id": "33ef1e8f",
   "metadata": {},
   "outputs": [],
   "source": [
    "image=cv2.imread(\"C:/Users/FreeComp/Downloads/Telegram Desktop/folders/folders/folder5/1.jpg\")"
   ]
  },
  {
   "cell_type": "code",
   "execution_count": 4,
   "id": "4cc9e3f9",
   "metadata": {},
   "outputs": [],
   "source": [
    "def avg_blur():\n",
    "    blured=np.hstack([image,\n",
    "                     cv2.blur(image,(3,3)),\n",
    "                     cv2.blur(image,(5,5)),\n",
    "                     cv2.blur(image,(7,7)),\n",
    "                     cv2.blur(image,(13,13))])\n",
    "    cv2.imshow(\"Avg_blured\",blured)\n",
    "    cv2.waitKey(0)\n",
    "\n",
    "def guass_blur():\n",
    "    g_blured=np.hstack([image,\n",
    "                     cv2.GaussianBlur(image,(3,3),0),\n",
    "                     cv2.GaussianBlur(image,(5,5),0),\n",
    "                     cv2.GaussianBlur(image,(7,7),0),\n",
    "                     cv2.GaussianBlur(image,(13,13),0)])\n",
    "    cv2.imshow(\"Gaussian_Blur\",g_blured)\n",
    "    cv2.waitKey(0)\n",
    "\n",
    "def bilateral():\n",
    "    filtered = np.hstack([image,\n",
    "                          cv2.bilateralFilter(image, 5, 21, 21),\n",
    "                          cv2.bilateralFilter(image, 7, 31, 31),\n",
    "                          cv2.bilateralFilter(image, 9, 41, 41),\n",
    "                          cv2.bilateralFilter(image, 15, 60, 60)])\n",
    "    cv2.imshow(\"frame2\", filtered)\n",
    "    cv2.waitKey(0)\n",
    "    \n",
    "def median_blur():\n",
    "    m_blured=np.hstack([image,\n",
    "                        cv2.medianBlur(image,3),\n",
    "                        cv2.medianBlur(image,5),\n",
    "                        cv2.medianBlur(image,7),\n",
    "                       cv2.medianBlur(image,13)])\n",
    "    cv2.imshow(\"frame3\",m_blured)\n",
    "    cv2.waitKey(0)\n",
    "median_blur()\n",
    "avg_blur()\n",
    "guass_blur()\n",
    "bilateral()"
   ]
  },
  {
   "cell_type": "code",
   "execution_count": null,
   "id": "3ba48bc2",
   "metadata": {},
   "outputs": [],
   "source": []
  }
 ],
 "metadata": {
  "kernelspec": {
   "display_name": "Python 3 (ipykernel)",
   "language": "python",
   "name": "python3"
  },
  "language_info": {
   "codemirror_mode": {
    "name": "ipython",
    "version": 3
   },
   "file_extension": ".py",
   "mimetype": "text/x-python",
   "name": "python",
   "nbconvert_exporter": "python",
   "pygments_lexer": "ipython3",
   "version": "3.9.13"
  }
 },
 "nbformat": 4,
 "nbformat_minor": 5
}
